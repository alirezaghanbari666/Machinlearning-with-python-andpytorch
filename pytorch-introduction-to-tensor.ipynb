{
 "cells": [
  {
   "cell_type": "code",
   "execution_count": 127,
   "id": "1d2879d5",
   "metadata": {},
   "outputs": [],
   "source": [
    "import torch"
   ]
  },
  {
   "cell_type": "markdown",
   "id": "def66778",
   "metadata": {},
   "source": [
    "# Intro\n",
    "\n",
    "A tensor is like a multi-dimensional array (a generalization of a matrix). You can make a tensor from a list. This will be 1-dimensional tensor (similar to a vector)."
   ]
  },
  {
   "cell_type": "code",
   "execution_count": 128,
   "id": "60073721",
   "metadata": {},
   "outputs": [],
   "source": [
    "my_list=[1,2,3, 4]"
   ]
  },
  {
   "cell_type": "code",
   "execution_count": 129,
   "id": "4b468f43",
   "metadata": {},
   "outputs": [],
   "source": [
    "my_tensor= torch.Tensor(my_list)"
   ]
  },
  {
   "cell_type": "code",
   "execution_count": 130,
   "id": "7300ef04",
   "metadata": {},
   "outputs": [
    {
     "data": {
      "text/plain": [
       "tensor([1., 2., 3., 4.])"
      ]
     },
     "execution_count": 130,
     "metadata": {},
     "output_type": "execute_result"
    }
   ],
   "source": [
    "my_tensor"
   ]
  },
  {
   "cell_type": "code",
   "execution_count": 131,
   "id": "8185016b",
   "metadata": {},
   "outputs": [
    {
     "data": {
      "text/plain": [
       "tensor(3.)"
      ]
     },
     "execution_count": 131,
     "metadata": {},
     "output_type": "execute_result"
    }
   ],
   "source": [
    "my_tensor[2]"
   ]
  },
  {
   "cell_type": "markdown",
   "id": "6e3ac28c",
   "metadata": {},
   "source": [
    "Wanna convert it to a number? No problem at all!"
   ]
  },
  {
   "cell_type": "code",
   "execution_count": 132,
   "id": "db1df93a",
   "metadata": {},
   "outputs": [
    {
     "data": {
      "text/plain": [
       "array([1., 2., 3., 4.], dtype=float32)"
      ]
     },
     "execution_count": 132,
     "metadata": {},
     "output_type": "execute_result"
    }
   ],
   "source": [
    "my_tensor.numpy()"
   ]
  },
  {
   "cell_type": "markdown",
   "id": "b3362cca",
   "metadata": {},
   "source": [
    "Wanna convert it back to a tensor? That's so easy!"
   ]
  },
  {
   "cell_type": "code",
   "execution_count": 133,
   "id": "1c759e78",
   "metadata": {},
   "outputs": [
    {
     "data": {
      "text/plain": [
       "tensor([1., 2., 3., 4.])"
      ]
     },
     "execution_count": 133,
     "metadata": {},
     "output_type": "execute_result"
    }
   ],
   "source": [
    "torch.Tensor(my_tensor.numpy())"
   ]
  },
  {
   "cell_type": "markdown",
   "id": "847140a7",
   "metadata": {},
   "source": [
    "Get it's shape"
   ]
  },
  {
   "cell_type": "code",
   "execution_count": 134,
   "id": "5e9737e9",
   "metadata": {},
   "outputs": [
    {
     "data": {
      "text/plain": [
       "torch.Size([4])"
      ]
     },
     "execution_count": 134,
     "metadata": {},
     "output_type": "execute_result"
    }
   ],
   "source": [
    "torch.Tensor(my_tensor.numpy()).shape"
   ]
  },
  {
   "cell_type": "markdown",
   "id": "e72d4bf3",
   "metadata": {},
   "source": [
    "# Making a Tensor from a Numpy Array\n",
    "\n",
    "How about making a Tensor from a numpy array? Let's go!"
   ]
  },
  {
   "cell_type": "code",
   "execution_count": 135,
   "id": "10fa6e88",
   "metadata": {},
   "outputs": [],
   "source": [
    "import numpy as np"
   ]
  },
  {
   "cell_type": "markdown",
   "id": "13d8e2d2",
   "metadata": {},
   "source": [
    "First, we make a Numpy array"
   ]
  },
  {
   "cell_type": "code",
   "execution_count": 136,
   "id": "d9c44414",
   "metadata": {},
   "outputs": [],
   "source": [
    "my_np_array = np.array([[2, 4, 6, 8],[10, 12, 14, 16]])"
   ]
  },
  {
   "cell_type": "markdown",
   "id": "04737dbf",
   "metadata": {},
   "source": [
    "Now we can get it's shape"
   ]
  },
  {
   "cell_type": "code",
   "execution_count": 137,
   "id": "f49ec2ef",
   "metadata": {},
   "outputs": [
    {
     "data": {
      "text/plain": [
       "(2, 4)"
      ]
     },
     "execution_count": 137,
     "metadata": {},
     "output_type": "execute_result"
    }
   ],
   "source": [
    "my_np_array.shape"
   ]
  },
  {
   "cell_type": "code",
   "execution_count": 138,
   "id": "75e9e438",
   "metadata": {},
   "outputs": [
    {
     "data": {
      "text/plain": [
       "dtype('int32')"
      ]
     },
     "execution_count": 138,
     "metadata": {},
     "output_type": "execute_result"
    }
   ],
   "source": [
    "my_np_array.dtype"
   ]
  },
  {
   "cell_type": "code",
   "execution_count": 139,
   "id": "deaf0d63",
   "metadata": {},
   "outputs": [],
   "source": [
    "my_tensor=torch.Tensor(my_np_array)"
   ]
  },
  {
   "cell_type": "code",
   "execution_count": 140,
   "id": "48073aca",
   "metadata": {},
   "outputs": [
    {
     "data": {
      "text/plain": [
       "tensor([[ 2.,  4.,  6.,  8.],\n",
       "        [10., 12., 14., 16.]])"
      ]
     },
     "execution_count": 140,
     "metadata": {},
     "output_type": "execute_result"
    }
   ],
   "source": [
    "my_tensor"
   ]
  },
  {
   "cell_type": "code",
   "execution_count": 141,
   "id": "5eaf5eea",
   "metadata": {},
   "outputs": [
    {
     "data": {
      "text/plain": [
       "torch.Size([2, 4])"
      ]
     },
     "execution_count": 141,
     "metadata": {},
     "output_type": "execute_result"
    }
   ],
   "source": [
    "my_tensor.shape"
   ]
  },
  {
   "cell_type": "markdown",
   "id": "11454cf8",
   "metadata": {},
   "source": [
    "Another way of making a Tensor from a Numpy array..."
   ]
  },
  {
   "cell_type": "code",
   "execution_count": 142,
   "id": "f9e84fe7",
   "metadata": {},
   "outputs": [],
   "source": [
    "my_tensor = torch.from_numpy(my_np_array)"
   ]
  },
  {
   "cell_type": "code",
   "execution_count": 143,
   "id": "e25fc4a9",
   "metadata": {},
   "outputs": [
    {
     "data": {
      "text/plain": [
       "tensor([[ 2,  4,  6,  8],\n",
       "        [10, 12, 14, 16]], dtype=torch.int32)"
      ]
     },
     "execution_count": 143,
     "metadata": {},
     "output_type": "execute_result"
    }
   ],
   "source": [
    "my_tensor"
   ]
  },
  {
   "cell_type": "code",
   "execution_count": 144,
   "id": "3287a735",
   "metadata": {},
   "outputs": [
    {
     "data": {
      "text/plain": [
       "torch.Size([2, 4])"
      ]
     },
     "execution_count": 144,
     "metadata": {},
     "output_type": "execute_result"
    }
   ],
   "source": [
    "my_tensor.shape"
   ]
  },
  {
   "cell_type": "code",
   "execution_count": 145,
   "id": "e10f8d01",
   "metadata": {},
   "outputs": [
    {
     "data": {
      "text/plain": [
       "torch.int32"
      ]
     },
     "execution_count": 145,
     "metadata": {},
     "output_type": "execute_result"
    }
   ],
   "source": [
    "my_tensor.dtype"
   ]
  },
  {
   "cell_type": "markdown",
   "id": "11f1f933",
   "metadata": {},
   "source": [
    "Even the shape can be converted to a number"
   ]
  },
  {
   "cell_type": "code",
   "execution_count": 146,
   "id": "818397b6",
   "metadata": {},
   "outputs": [
    {
     "data": {
      "text/plain": [
       "2"
      ]
     },
     "execution_count": 146,
     "metadata": {},
     "output_type": "execute_result"
    }
   ],
   "source": [
    "my_tensor.shape[0]"
   ]
  },
  {
   "cell_type": "markdown",
   "id": "b96022f7",
   "metadata": {},
   "source": [
    "# Making a Random Tensor"
   ]
  },
  {
   "cell_type": "code",
   "execution_count": 147,
   "id": "4fb2e79f",
   "metadata": {},
   "outputs": [
    {
     "data": {
      "text/plain": [
       "tensor([[0.9666, 0.9889, 0.5134, 0.8328, 0.8373],\n",
       "        [0.8905, 0.2216, 0.6570, 0.4752, 0.9260],\n",
       "        [0.5706, 0.0780, 0.3778, 0.8355, 0.4078]])"
      ]
     },
     "execution_count": 147,
     "metadata": {},
     "output_type": "execute_result"
    }
   ],
   "source": [
    "torch.rand((3,5))"
   ]
  },
  {
   "cell_type": "code",
   "execution_count": 148,
   "id": "7e250784",
   "metadata": {},
   "outputs": [
    {
     "data": {
      "text/plain": [
       "tensor([[23, 55, 60,  1, 16],\n",
       "        [71, 40, 84,  0, 81],\n",
       "        [32, 91, 27, 46, 70]])"
      ]
     },
     "execution_count": 148,
     "metadata": {},
     "output_type": "execute_result"
    }
   ],
   "source": [
    "torch.randint(0, 100,(3,5))"
   ]
  },
  {
   "cell_type": "code",
   "execution_count": 149,
   "id": "0a8be8d7",
   "metadata": {},
   "outputs": [
    {
     "data": {
      "text/plain": [
       "tensor([[0.7695, 0.7982, 0.0899, 0.8435, 0.7344],\n",
       "        [0.3639, 0.2162, 0.1927, 0.3932, 0.2125],\n",
       "        [0.1313, 0.7656, 0.1285, 0.0533, 0.6422]])"
      ]
     },
     "execution_count": 149,
     "metadata": {},
     "output_type": "execute_result"
    }
   ],
   "source": [
    "torch.rand((3,5))"
   ]
  },
  {
   "cell_type": "markdown",
   "id": "c2fa45d0",
   "metadata": {},
   "source": [
    "# Special Tensors\n",
    "\n",
    "Filled with zeros"
   ]
  },
  {
   "cell_type": "code",
   "execution_count": 150,
   "id": "0fc2e491",
   "metadata": {},
   "outputs": [
    {
     "data": {
      "text/plain": [
       "tensor([[0., 0., 0., 0., 0.],\n",
       "        [0., 0., 0., 0., 0.],\n",
       "        [0., 0., 0., 0., 0.]])"
      ]
     },
     "execution_count": 150,
     "metadata": {},
     "output_type": "execute_result"
    }
   ],
   "source": [
    "torch.zeros((3, 5))"
   ]
  },
  {
   "cell_type": "code",
   "execution_count": 151,
   "id": "e8a07d34",
   "metadata": {},
   "outputs": [
    {
     "data": {
      "text/plain": [
       "tensor([[1., 1., 1., 1., 1.],\n",
       "        [1., 1., 1., 1., 1.],\n",
       "        [1., 1., 1., 1., 1.]])"
      ]
     },
     "execution_count": 151,
     "metadata": {},
     "output_type": "execute_result"
    }
   ],
   "source": [
    "torch.ones((3, 5))"
   ]
  },
  {
   "cell_type": "markdown",
   "id": "aec27582",
   "metadata": {},
   "source": [
    "# Tensors like other tensors!"
   ]
  },
  {
   "cell_type": "code",
   "execution_count": 152,
   "id": "3b13357f",
   "metadata": {},
   "outputs": [],
   "source": [
    "t = torch.rand((2, 3))"
   ]
  },
  {
   "cell_type": "code",
   "execution_count": 153,
   "id": "811bfa24",
   "metadata": {},
   "outputs": [],
   "source": [
    "u = torch.randn_like(t)"
   ]
  },
  {
   "cell_type": "code",
   "execution_count": 154,
   "id": "edbc1e16",
   "metadata": {},
   "outputs": [
    {
     "data": {
      "text/plain": [
       "tensor([[0.3531, 0.9095, 0.5143],\n",
       "        [0.3187, 0.6812, 0.3894]])"
      ]
     },
     "execution_count": 154,
     "metadata": {},
     "output_type": "execute_result"
    }
   ],
   "source": [
    "t"
   ]
  },
  {
   "cell_type": "code",
   "execution_count": 155,
   "id": "3280c8ee",
   "metadata": {},
   "outputs": [
    {
     "data": {
      "text/plain": [
       "tensor([[-0.9780,  0.5839,  0.0193],\n",
       "        [-0.4884,  3.7720,  0.1454]])"
      ]
     },
     "execution_count": 155,
     "metadata": {},
     "output_type": "execute_result"
    }
   ],
   "source": [
    "u"
   ]
  },
  {
   "cell_type": "code",
   "execution_count": 156,
   "id": "31583478",
   "metadata": {},
   "outputs": [],
   "source": [
    "v = torch.ones_like(t)"
   ]
  },
  {
   "cell_type": "code",
   "execution_count": 157,
   "id": "3a226777",
   "metadata": {},
   "outputs": [
    {
     "data": {
      "text/plain": [
       "tensor([[1., 1., 1.],\n",
       "        [1., 1., 1.]])"
      ]
     },
     "execution_count": 157,
     "metadata": {},
     "output_type": "execute_result"
    }
   ],
   "source": [
    "v"
   ]
  },
  {
   "cell_type": "code",
   "execution_count": 158,
   "id": "d18b1436",
   "metadata": {},
   "outputs": [],
   "source": [
    "w = torch.zeros_like(t)"
   ]
  },
  {
   "cell_type": "code",
   "execution_count": 159,
   "id": "4e595d11",
   "metadata": {},
   "outputs": [
    {
     "data": {
      "text/plain": [
       "tensor([[0., 0., 0.],\n",
       "        [0., 0., 0.]])"
      ]
     },
     "execution_count": 159,
     "metadata": {},
     "output_type": "execute_result"
    }
   ],
   "source": [
    "w"
   ]
  },
  {
   "cell_type": "markdown",
   "id": "74abe499",
   "metadata": {},
   "source": [
    "# Indexing"
   ]
  },
  {
   "cell_type": "code",
   "execution_count": 160,
   "id": "02692b21",
   "metadata": {},
   "outputs": [
    {
     "data": {
      "text/plain": [
       "tensor([[-0.9780,  0.5839,  0.0193],\n",
       "        [-0.4884,  3.7720,  0.1454]])"
      ]
     },
     "execution_count": 160,
     "metadata": {},
     "output_type": "execute_result"
    }
   ],
   "source": [
    "u"
   ]
  },
  {
   "cell_type": "markdown",
   "id": "bf4b437e",
   "metadata": {},
   "source": [
    "First row, Second Column"
   ]
  },
  {
   "cell_type": "code",
   "execution_count": 161,
   "id": "086e7607",
   "metadata": {},
   "outputs": [
    {
     "data": {
      "text/plain": [
       "tensor(0.5839)"
      ]
     },
     "execution_count": 161,
     "metadata": {},
     "output_type": "execute_result"
    }
   ],
   "source": [
    "u[0][1]"
   ]
  },
  {
   "cell_type": "markdown",
   "id": "5a84cd80",
   "metadata": {},
   "source": [
    "# Second Column"
   ]
  },
  {
   "cell_type": "code",
   "execution_count": 162,
   "id": "66706fef",
   "metadata": {},
   "outputs": [
    {
     "data": {
      "text/plain": [
       "tensor([0.5839, 3.7720])"
      ]
     },
     "execution_count": 162,
     "metadata": {},
     "output_type": "execute_result"
    }
   ],
   "source": [
    "u[:,1]"
   ]
  },
  {
   "cell_type": "markdown",
   "id": "1633d7b1",
   "metadata": {},
   "source": [
    "First row"
   ]
  },
  {
   "cell_type": "code",
   "execution_count": 163,
   "id": "a5a7117d",
   "metadata": {},
   "outputs": [
    {
     "data": {
      "text/plain": [
       "tensor([-0.9780,  0.5839,  0.0193])"
      ]
     },
     "execution_count": 163,
     "metadata": {},
     "output_type": "execute_result"
    }
   ],
   "source": [
    "u[0,:]"
   ]
  },
  {
   "cell_type": "markdown",
   "id": "94121626",
   "metadata": {},
   "source": [
    "# Concatenation"
   ]
  },
  {
   "cell_type": "code",
   "execution_count": 164,
   "id": "46112b1b",
   "metadata": {},
   "outputs": [
    {
     "data": {
      "text/plain": [
       "tensor([[-0.9780,  0.5839,  0.0193],\n",
       "        [-0.4884,  3.7720,  0.1454]])"
      ]
     },
     "execution_count": 164,
     "metadata": {},
     "output_type": "execute_result"
    }
   ],
   "source": [
    "u"
   ]
  },
  {
   "cell_type": "code",
   "execution_count": 165,
   "id": "7ba9a4c5",
   "metadata": {},
   "outputs": [
    {
     "data": {
      "text/plain": [
       "tensor([[0.3531, 0.9095, 0.5143],\n",
       "        [0.3187, 0.6812, 0.3894]])"
      ]
     },
     "execution_count": 165,
     "metadata": {},
     "output_type": "execute_result"
    }
   ],
   "source": [
    "t"
   ]
  },
  {
   "cell_type": "code",
   "execution_count": 166,
   "id": "d7178af0",
   "metadata": {},
   "outputs": [
    {
     "data": {
      "text/plain": [
       "tensor([[-0.9780,  0.5839,  0.0193],\n",
       "        [-0.4884,  3.7720,  0.1454],\n",
       "        [ 0.3531,  0.9095,  0.5143],\n",
       "        [ 0.3187,  0.6812,  0.3894]])"
      ]
     },
     "execution_count": 166,
     "metadata": {},
     "output_type": "execute_result"
    }
   ],
   "source": [
    "torch.cat([u, t])"
   ]
  },
  {
   "cell_type": "markdown",
   "id": "05345f7b",
   "metadata": {},
   "source": [
    "Concatenate by joining the rows"
   ]
  },
  {
   "cell_type": "code",
   "execution_count": 167,
   "id": "a5841928",
   "metadata": {},
   "outputs": [
    {
     "data": {
      "text/plain": [
       "tensor([[-0.9780,  0.5839,  0.0193],\n",
       "        [-0.4884,  3.7720,  0.1454],\n",
       "        [ 0.3531,  0.9095,  0.5143],\n",
       "        [ 0.3187,  0.6812,  0.3894]])"
      ]
     },
     "execution_count": 167,
     "metadata": {},
     "output_type": "execute_result"
    }
   ],
   "source": [
    "torch.cat([u, t],dim=0)"
   ]
  },
  {
   "cell_type": "code",
   "execution_count": 168,
   "id": "96aa6fb5",
   "metadata": {},
   "outputs": [
    {
     "data": {
      "text/plain": [
       "tensor([[-0.9780,  0.5839,  0.0193,  0.3531,  0.9095,  0.5143],\n",
       "        [-0.4884,  3.7720,  0.1454,  0.3187,  0.6812,  0.3894]])"
      ]
     },
     "execution_count": 168,
     "metadata": {},
     "output_type": "execute_result"
    }
   ],
   "source": [
    "torch.cat([u,t],dim=1)"
   ]
  },
  {
   "cell_type": "markdown",
   "id": "4c2b108a",
   "metadata": {},
   "source": [
    "# Basic Arithmetic Operations\n",
    "\n",
    "Element-wise Multiplication"
   ]
  },
  {
   "cell_type": "code",
   "execution_count": 169,
   "id": "54063733",
   "metadata": {},
   "outputs": [
    {
     "data": {
      "text/plain": [
       "tensor([[-0.9780,  0.5839,  0.0193],\n",
       "        [-0.4884,  3.7720,  0.1454]])"
      ]
     },
     "execution_count": 169,
     "metadata": {},
     "output_type": "execute_result"
    }
   ],
   "source": [
    "u"
   ]
  },
  {
   "cell_type": "code",
   "execution_count": 170,
   "id": "1d5c0ac6",
   "metadata": {},
   "outputs": [
    {
     "data": {
      "text/plain": [
       "tensor([[1., 1., 1.],\n",
       "        [1., 1., 1.]])"
      ]
     },
     "execution_count": 170,
     "metadata": {},
     "output_type": "execute_result"
    }
   ],
   "source": [
    "v"
   ]
  },
  {
   "cell_type": "code",
   "execution_count": 171,
   "id": "7c4daf9d",
   "metadata": {},
   "outputs": [
    {
     "data": {
      "text/plain": [
       "tensor([[0.3531, 0.9095, 0.5143],\n",
       "        [0.3187, 0.6812, 0.3894]])"
      ]
     },
     "execution_count": 171,
     "metadata": {},
     "output_type": "execute_result"
    }
   ],
   "source": [
    "t"
   ]
  },
  {
   "cell_type": "code",
   "execution_count": 172,
   "id": "0b33b648",
   "metadata": {},
   "outputs": [
    {
     "data": {
      "text/plain": [
       "tensor([[-0.9780,  0.5839,  0.0193],\n",
       "        [-0.4884,  3.7720,  0.1454]])"
      ]
     },
     "execution_count": 172,
     "metadata": {},
     "output_type": "execute_result"
    }
   ],
   "source": [
    "u*v"
   ]
  },
  {
   "cell_type": "code",
   "execution_count": 173,
   "id": "0af160f1",
   "metadata": {},
   "outputs": [
    {
     "data": {
      "text/plain": [
       "tensor([[-0.3453,  0.5311,  0.0099],\n",
       "        [-0.1557,  2.5694,  0.0566]])"
      ]
     },
     "execution_count": 173,
     "metadata": {},
     "output_type": "execute_result"
    }
   ],
   "source": [
    "u*t"
   ]
  },
  {
   "cell_type": "code",
   "execution_count": 174,
   "id": "50e56c0d",
   "metadata": {},
   "outputs": [
    {
     "data": {
      "text/plain": [
       "0.5310570499999999"
      ]
     },
     "execution_count": 174,
     "metadata": {},
     "output_type": "execute_result"
    }
   ],
   "source": [
    "0.5839*0.9095"
   ]
  },
  {
   "cell_type": "code",
   "execution_count": 175,
   "id": "2a67f636",
   "metadata": {},
   "outputs": [
    {
     "data": {
      "text/plain": [
       "tensor([[-0.3453,  0.5311,  0.0099],\n",
       "        [-0.1557,  2.5694,  0.0566]])"
      ]
     },
     "execution_count": 175,
     "metadata": {},
     "output_type": "execute_result"
    }
   ],
   "source": [
    "torch.mul(u,t)"
   ]
  },
  {
   "cell_type": "markdown",
   "id": "d061861d",
   "metadata": {},
   "source": [
    "Matrix Multiplication"
   ]
  },
  {
   "cell_type": "code",
   "execution_count": 179,
   "id": "e056f8aa",
   "metadata": {},
   "outputs": [
    {
     "data": {
      "text/plain": [
       "tensor([[-0.9780,  0.5839,  0.0193],\n",
       "        [-0.4884,  3.7720,  0.1454]])"
      ]
     },
     "execution_count": 179,
     "metadata": {},
     "output_type": "execute_result"
    }
   ],
   "source": [
    "u"
   ]
  },
  {
   "cell_type": "code",
   "execution_count": 180,
   "id": "1e4d0c99",
   "metadata": {},
   "outputs": [
    {
     "data": {
      "text/plain": [
       "tensor([[0.3531, 0.9095, 0.5143],\n",
       "        [0.3187, 0.6812, 0.3894]])"
      ]
     },
     "execution_count": 180,
     "metadata": {},
     "output_type": "execute_result"
    }
   ],
   "source": [
    "t"
   ]
  },
  {
   "cell_type": "code",
   "execution_count": 181,
   "id": "4118514e",
   "metadata": {},
   "outputs": [
    {
     "data": {
      "text/plain": [
       "tensor([[0.1957, 0.0936],\n",
       "        [3.3328, 2.4703]])"
      ]
     },
     "execution_count": 181,
     "metadata": {},
     "output_type": "execute_result"
    }
   ],
   "source": [
    "torch.matmul(u,t.T) # Note that u is 2*3 and t.T is 3*2. So the result is 2*2"
   ]
  },
  {
   "cell_type": "markdown",
   "id": "dbd3384e",
   "metadata": {},
   "source": [
    "Getting the Abstract Value"
   ]
  },
  {
   "cell_type": "code",
   "execution_count": 194,
   "id": "c3168278",
   "metadata": {},
   "outputs": [],
   "source": [
    "s = torch.Tensor([-10,-20,30])"
   ]
  },
  {
   "cell_type": "code",
   "execution_count": 195,
   "id": "6971f60d",
   "metadata": {},
   "outputs": [
    {
     "data": {
      "text/plain": [
       "tensor([10., 20., 30.])"
      ]
     },
     "execution_count": 195,
     "metadata": {},
     "output_type": "execute_result"
    }
   ],
   "source": [
    "torch.abs(s) #Note that (abs) means absolute value in Riyad"
   ]
  },
  {
   "cell_type": "code",
   "execution_count": 196,
   "id": "20e7f738",
   "metadata": {},
   "outputs": [
    {
     "data": {
      "text/plain": [
       "tensor([[-0.9780,  0.5839,  0.0193],\n",
       "        [-0.4884,  3.7720,  0.1454]])"
      ]
     },
     "execution_count": 196,
     "metadata": {},
     "output_type": "execute_result"
    }
   ],
   "source": [
    "u"
   ]
  },
  {
   "cell_type": "code",
   "execution_count": 197,
   "id": "5c3c09f4",
   "metadata": {},
   "outputs": [
    {
     "data": {
      "text/plain": [
       "tensor([[0.0220, 1.5839, 1.0193],\n",
       "        [0.5116, 4.7720, 1.1454]])"
      ]
     },
     "execution_count": 197,
     "metadata": {},
     "output_type": "execute_result"
    }
   ],
   "source": [
    "u+1"
   ]
  },
  {
   "cell_type": "code",
   "execution_count": 198,
   "id": "97b5f430",
   "metadata": {},
   "outputs": [
    {
     "data": {
      "text/plain": [
       "tensor([[0.3531, 0.9095, 0.5143],\n",
       "        [0.3187, 0.6812, 0.3894]])"
      ]
     },
     "execution_count": 198,
     "metadata": {},
     "output_type": "execute_result"
    }
   ],
   "source": [
    "t"
   ]
  },
  {
   "cell_type": "code",
   "execution_count": 199,
   "id": "a16b1b66",
   "metadata": {},
   "outputs": [
    {
     "data": {
      "text/plain": [
       "tensor([[-0.6249,  1.4934,  0.5337],\n",
       "        [-0.1698,  4.4532,  0.5348]])"
      ]
     },
     "execution_count": 199,
     "metadata": {},
     "output_type": "execute_result"
    }
   ],
   "source": [
    "u+t"
   ]
  },
  {
   "cell_type": "code",
   "execution_count": 200,
   "id": "1984e09b",
   "metadata": {},
   "outputs": [
    {
     "data": {
      "text/plain": [
       "0.5310570499999999"
      ]
     },
     "execution_count": 200,
     "metadata": {},
     "output_type": "execute_result"
    }
   ],
   "source": [
    "0.5839 * 0.9095"
   ]
  },
  {
   "cell_type": "code",
   "execution_count": 201,
   "id": "1232d8b7",
   "metadata": {},
   "outputs": [
    {
     "data": {
      "text/plain": [
       "tensor([[-0.6249,  1.4934,  0.5337],\n",
       "        [-0.1698,  4.4532,  0.5348]])"
      ]
     },
     "execution_count": 201,
     "metadata": {},
     "output_type": "execute_result"
    }
   ],
   "source": [
    "torch.add(u, t)"
   ]
  },
  {
   "cell_type": "code",
   "execution_count": 202,
   "id": "0afb85b4",
   "metadata": {},
   "outputs": [
    {
     "data": {
      "text/plain": [
       "tensor([[-1.3311, -0.3255, -0.4950],\n",
       "        [-0.8071,  3.0909, -0.2440]])"
      ]
     },
     "execution_count": 202,
     "metadata": {},
     "output_type": "execute_result"
    }
   ],
   "source": [
    "u-t"
   ]
  },
  {
   "cell_type": "code",
   "execution_count": 203,
   "id": "b51a97f2",
   "metadata": {},
   "outputs": [
    {
     "data": {
      "text/plain": [
       "tensor([[-1.3311, -0.3255, -0.4950],\n",
       "        [-0.8071,  3.0909, -0.2440]])"
      ]
     },
     "execution_count": 203,
     "metadata": {},
     "output_type": "execute_result"
    }
   ],
   "source": [
    "torch.sub(u,t)"
   ]
  },
  {
   "cell_type": "markdown",
   "id": "d9296204",
   "metadata": {},
   "source": [
    "Division (Element-wise)"
   ]
  },
  {
   "cell_type": "code",
   "execution_count": 204,
   "id": "5ce64d72",
   "metadata": {},
   "outputs": [
    {
     "data": {
      "text/plain": [
       "tensor([[-2.7698,  0.6421,  0.0376],\n",
       "        [-1.5327,  5.5377,  0.3734]])"
      ]
     },
     "execution_count": 204,
     "metadata": {},
     "output_type": "execute_result"
    }
   ],
   "source": [
    "u/t"
   ]
  },
  {
   "cell_type": "code",
   "execution_count": 205,
   "id": "8dabedc3",
   "metadata": {},
   "outputs": [
    {
     "data": {
      "text/plain": [
       "tensor([[-2.7698,  0.6421,  0.0376],\n",
       "        [-1.5327,  5.5377,  0.3734]])"
      ]
     },
     "execution_count": 205,
     "metadata": {},
     "output_type": "execute_result"
    }
   ],
   "source": [
    "torch.div(u, t)"
   ]
  },
  {
   "cell_type": "markdown",
   "id": "526eafbb",
   "metadata": {},
   "source": [
    "Negation"
   ]
  },
  {
   "cell_type": "code",
   "execution_count": 206,
   "id": "dd435473",
   "metadata": {},
   "outputs": [
    {
     "data": {
      "text/plain": [
       "tensor([[-0.9780,  0.5839,  0.0193],\n",
       "        [-0.4884,  3.7720,  0.1454]])"
      ]
     },
     "execution_count": 206,
     "metadata": {},
     "output_type": "execute_result"
    }
   ],
   "source": [
    "u"
   ]
  },
  {
   "cell_type": "code",
   "execution_count": 207,
   "id": "800bb399",
   "metadata": {},
   "outputs": [
    {
     "data": {
      "text/plain": [
       "tensor([[ 0.9780, -0.5839, -0.0193],\n",
       "        [ 0.4884, -3.7720, -0.1454]])"
      ]
     },
     "execution_count": 207,
     "metadata": {},
     "output_type": "execute_result"
    }
   ],
   "source": [
    "torch.neg(u) #We use torch.ing to compare"
   ]
  },
  {
   "cell_type": "code",
   "execution_count": 208,
   "id": "4089e2e1",
   "metadata": {},
   "outputs": [
    {
     "data": {
      "text/plain": [
       "tensor([[ 0.9780, -0.5839, -0.0193],\n",
       "        [ 0.4884, -3.7720, -0.1454]])"
      ]
     },
     "execution_count": 208,
     "metadata": {},
     "output_type": "execute_result"
    }
   ],
   "source": [
    "-u #We use the symbol - to compare"
   ]
  },
  {
   "cell_type": "markdown",
   "id": "8ac77593",
   "metadata": {},
   "source": [
    "\n",
    "Raising to a Power (element-wise)"
   ]
  },
  {
   "cell_type": "code",
   "execution_count": 209,
   "id": "b7518ccb",
   "metadata": {},
   "outputs": [],
   "source": [
    "r = torch.ones((2,3))*2"
   ]
  },
  {
   "cell_type": "code",
   "execution_count": 210,
   "id": "225c9e5b",
   "metadata": {},
   "outputs": [
    {
     "data": {
      "text/plain": [
       "tensor([[2., 2., 2.],\n",
       "        [2., 2., 2.]])"
      ]
     },
     "execution_count": 210,
     "metadata": {},
     "output_type": "execute_result"
    }
   ],
   "source": [
    "r"
   ]
  },
  {
   "cell_type": "code",
   "execution_count": 212,
   "id": "01519708",
   "metadata": {},
   "outputs": [
    {
     "data": {
      "text/plain": [
       "tensor([[32., 32., 32.],\n",
       "        [32., 32., 32.]])"
      ]
     },
     "execution_count": 212,
     "metadata": {},
     "output_type": "execute_result"
    }
   ],
   "source": [
    "torch.pow(r, 5)"
   ]
  }
 ],
 "metadata": {
  "kernelspec": {
   "display_name": "Python 3 (ipykernel)",
   "language": "python",
   "name": "python3"
  },
  "language_info": {
   "codemirror_mode": {
    "name": "ipython",
    "version": 3
   },
   "file_extension": ".py",
   "mimetype": "text/x-python",
   "name": "python",
   "nbconvert_exporter": "python",
   "pygments_lexer": "ipython3",
   "version": "3.9.7"
  }
 },
 "nbformat": 4,
 "nbformat_minor": 5
}
